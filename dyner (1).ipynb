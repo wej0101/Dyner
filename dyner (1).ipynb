{
  "nbformat": 4,
  "nbformat_minor": 0,
  "metadata": {
    "colab": {
      "provenance": []
    },
    "kernelspec": {
      "name": "python3",
      "display_name": "Python 3"
    },
    "language_info": {
      "name": "python"
    }
  },
  "cells": [
    {
      "cell_type": "code",
      "execution_count": null,
      "metadata": {
        "id": "jUMzCupN60ul"
      },
      "outputs": [],
      "source": [
        "from flask import Flask, request, jsonify\n",
        "import openai\n",
        "\n",
        "import os\n",
        "openai.api_key = os.getenv('OPENAI_API_KEY')\n",
        "\n",
        "app = Flask(__name__)\n",
        "\n",
        "@app.route('/generate_quiz', methods=['POST'])\n",
        "def generate_quiz():\n",
        "  data = request.get_json()\n",
        "  study_content = data.get('content')\n",
        "\n",
        "  if not study_content:\n",
        "    return jsonify({\"error\" : \"No content provided\"}), 400\n",
        "\n",
        "\n",
        "  prompt = f\"\"\"\n",
        "  아래 내용을 바탕으로 객관식 퀴즈 5문제를 만들어줘.\n",
        "  내용 : {study_content}\n",
        "\n",
        "  형식 :\n",
        "  1. 문제\n",
        "  - 보기 1\n",
        "  - 보기 2\n",
        "  - 보기 3\n",
        "  - 정답 :\n",
        "  \"\"\"\n",
        "\n",
        "  response = openai.ChatCompletion.create(\n",
        "      model = \"gpt-3.5-turbo\",\n",
        "      messages=[\n",
        "            {\"role\": \"system\", \"content\": \"너는 퀴즈를 만들어주는 챗봇이야.\"},\n",
        "            {\"role\": \"user\", \"content\": prompt}\n",
        "        ],\n",
        "      temperature=0.5,\n",
        "      max_tokens=500\n",
        "  )\n",
        "\n",
        "  quiz = response['choices'][0]['massage']['content']\n",
        "  return jsonify({\"quiz\":quiz})\n",
        "\n",
        "if __name__ == '__main__':\n",
        "  app.run(debug=True)"
      ]
    }
  ]
}