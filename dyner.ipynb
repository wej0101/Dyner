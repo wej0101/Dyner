{
  "nbformat": 4,
  "nbformat_minor": 0,
  "metadata": {
    "colab": {
      "provenance": []
    },
    "kernelspec": {
      "name": "python3",
      "display_name": "Python 3"
    },
    "language_info": {
      "name": "python"
    }
  },
  "cells": [
    {
      "cell_type": "code",
      "execution_count": 3,
      "metadata": {
        "id": "jUMzCupN60ul",
        "colab": {
          "base_uri": "https://localhost:8080/",
          "height": 224
        },
        "outputId": "d2abc2dc-6bab-461d-900c-2c776c346d0e"
      },
      "outputs": [
        {
          "output_type": "error",
          "ename": "NameError",
          "evalue": "name 'response' is not defined",
          "traceback": [
            "\u001b[0;31m---------------------------------------------------------------------------\u001b[0m",
            "\u001b[0;31mNameError\u001b[0m                                 Traceback (most recent call last)",
            "\u001b[0;32m/tmp/ipython-input-3-894587303.py\u001b[0m in \u001b[0;36m<cell line: 0>\u001b[0;34m()\u001b[0m\n\u001b[1;32m     38\u001b[0m   )\n\u001b[1;32m     39\u001b[0m \u001b[0;34m\u001b[0m\u001b[0m\n\u001b[0;32m---> 40\u001b[0;31m \u001b[0mquiz\u001b[0m \u001b[0;34m=\u001b[0m \u001b[0mresponse\u001b[0m\u001b[0;34m[\u001b[0m\u001b[0;34m'choices'\u001b[0m\u001b[0;34m]\u001b[0m\u001b[0;34m[\u001b[0m\u001b[0;36m0\u001b[0m\u001b[0;34m]\u001b[0m\u001b[0;34m[\u001b[0m\u001b[0;34m'massage'\u001b[0m\u001b[0;34m]\u001b[0m\u001b[0;34m[\u001b[0m\u001b[0;34m'content'\u001b[0m\u001b[0;34m]\u001b[0m\u001b[0;34m\u001b[0m\u001b[0;34m\u001b[0m\u001b[0m\n\u001b[0m\u001b[1;32m     41\u001b[0m \u001b[0mprint\u001b[0m\u001b[0;34m(\u001b[0m\u001b[0mquiz\u001b[0m\u001b[0;34m)\u001b[0m\u001b[0;34m\u001b[0m\u001b[0;34m\u001b[0m\u001b[0m\n\u001b[1;32m     42\u001b[0m \u001b[0;31m#   return jsonify({\"quiz\":quiz})\u001b[0m\u001b[0;34m\u001b[0m\u001b[0;34m\u001b[0m\u001b[0m\n",
            "\u001b[0;31mNameError\u001b[0m: name 'response' is not defined"
          ]
        }
      ],
      "source": [
        "import requests\n",
        "\n",
        "def generate_quiz(study_content):\n",
        "    url = \"http://localhost:11434/api/chat\"  # Ollama 기본 API 엔드포인트\n",
        "    headers = {\"Content-Type\": \"application/json\"}\n",
        "    data = {\n",
        "        \"model\": \"llama3\",  # 또는 네가 설치한 모델명\n",
        "        \"messages\": [\n",
        "            {\"role\": \"system\", \"content\": \"너는 사용자의 공부 내용을 바탕으로 객관식 퀴즈를 만들어주는 챗봇이야.\"},\n",
        "            {\"role\": \"user\", \"content\": f\"아래 내용을 바탕으로 객관식 퀴즈 3문제를 만들어줘.\\n내용: {study_content}\\n\\n형식:\\n1. 문제\\n- 보기 1\\n- 보기 2\\n- 보기 3\\n- 정답:\"}\n",
        "        ],\n",
        "        \"stream\": False\n",
        "    }\n",
        "\n",
        "    response = requests.post(url, json=data, headers=headers)\n",
        "    result = response.json()\n",
        "    return result['message']['content']\n",
        "\n",
        "\n",
        "# ✅ 예시로 사용하는 공부 내용\n",
        "study_content = \"TCP와 UDP의 차이점은 무엇이며 각각의 장단점은 무엇인가요?\"\n",
        "\n",
        "quiz_result = generate_quiz(study_content)\n",
        "print(\"\\n📋 생성된 퀴즈:\\n\")\n",
        "print(quiz_result)"
      ]
    }
  ]
}